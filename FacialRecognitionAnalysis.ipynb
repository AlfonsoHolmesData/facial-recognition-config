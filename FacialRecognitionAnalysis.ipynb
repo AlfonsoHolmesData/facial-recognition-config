{
 "cells": [
  {
   "cell_type": "code",
   "execution_count": 103,
   "id": "75a37fdd",
   "metadata": {},
   "outputs": [],
   "source": [
    "import numpy as np\n",
    "import cv2"
   ]
  },
  {
   "cell_type": "code",
   "execution_count": 104,
   "id": "bae90462",
   "metadata": {},
   "outputs": [],
   "source": [
    "img = cv2.imread('./test/images/Test Images/faces.jpg')\n",
    "\n",
    "def displayImage(name, data):\n",
    "    cv2.imshow(name, data)\n",
    "    cv2.waitKey(500)\n",
    "    cv2.destroyAllWindows()\n",
    "\n",
    "displayImage('f', img)"
   ]
  },
  {
   "cell_type": "code",
   "execution_count": 105,
   "id": "4226c0f0",
   "metadata": {},
   "outputs": [],
   "source": [
    "net = cv2.dnn.readNetFromCaffe('./models/dnn/deploy.prototxt.txt',\n",
    "                               './models/dnn/res10_300x300_ssd_iter_140000_fp16.caffemodel')"
   ]
  },
  {
   "cell_type": "code",
   "execution_count": 106,
   "id": "009dca10",
   "metadata": {},
   "outputs": [],
   "source": [
    "# extract blob\n",
    "blob = cv2.dnn.blobFromImage(img,1,(300,300),(104,177,123), swapRB=False) # assumes image is in bgr format"
   ]
  },
  {
   "cell_type": "code",
   "execution_count": 107,
   "id": "4c56ca2c",
   "metadata": {},
   "outputs": [],
   "source": [
    "net.setInput(blob)\n",
    "detections = net.forward()"
   ]
  },
  {
   "cell_type": "code",
   "execution_count": 108,
   "id": "17ca7cfc",
   "metadata": {},
   "outputs": [
    {
     "data": {
      "text/plain": [
       "(1, 1, 200, 7)"
      ]
     },
     "execution_count": 108,
     "metadata": {},
     "output_type": "execute_result"
    }
   ],
   "source": [
    "detections.shape # outPuts number of images, the probability this is a face, mask \n",
    "# 0: image number 1: binary (0 0r 1) 2: Confidence score 3: Start X 4: Start Y, 5: end X 6: end Y\n"
   ]
  },
  {
   "cell_type": "code",
   "execution_count": 112,
   "id": "5b2d7bf0",
   "metadata": {},
   "outputs": [],
   "source": [
    "h,w = img.shape[:2]\n",
    "for i in range(0, detections.shape[2]):\n",
    "    confidence = detections[0,0,i,2]\n",
    "    if confidence >= 0.50:\n",
    "        #print(f\"{round(confidence, 2)} Percent\") # should only look for confidence greator than 50%\n",
    "        box = detections[0,0,i,3:7] # normalized values\n",
    "        box = box*np.array([w,h,w,h])\n",
    "        box = box.astype(int)\n",
    "        # \n",
    "        startx, starty, endx, endy = box\n",
    "        cv2.putText(img, f'Freindly: {round(confidence * 100, 2)}% ',(startx, starty-5), 1, 1, (0,255,0))\n",
    "        cv2.line(img, (startx, starty), (endx, endy), (0,255,0))\n",
    "        cv2.line(img, (startx, endy), (endx, starty), (0,255,0))\n",
    "        cv2.rectangle(img, (startx, starty), (endx, endy), (0,255,0))\n",
    "\n",
    "\n",
    "displayImage('f', img)"
   ]
  },
  {
   "cell_type": "code",
   "execution_count": null,
   "id": "9ad0fe63",
   "metadata": {},
   "outputs": [],
   "source": []
  },
  {
   "cell_type": "code",
   "execution_count": null,
   "id": "0486c08b",
   "metadata": {},
   "outputs": [],
   "source": []
  }
 ],
 "metadata": {
  "kernelspec": {
   "display_name": "Python 3 (ipykernel)",
   "language": "python",
   "name": "python3"
  },
  "language_info": {
   "codemirror_mode": {
    "name": "ipython",
    "version": 3
   },
   "file_extension": ".py",
   "mimetype": "text/x-python",
   "name": "python",
   "nbconvert_exporter": "python",
   "pygments_lexer": "ipython3",
   "version": "3.9.13"
  }
 },
 "nbformat": 4,
 "nbformat_minor": 5
}
