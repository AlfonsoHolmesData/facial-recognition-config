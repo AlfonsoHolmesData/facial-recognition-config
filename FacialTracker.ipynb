{
 "cells": [
  {
   "cell_type": "code",
   "execution_count": 1,
   "id": "65b5117a",
   "metadata": {},
   "outputs": [],
   "source": [
    "import numpy as np\n",
    "import cv2 "
   ]
  },
  {
   "cell_type": "code",
   "execution_count": 2,
   "id": "9fe4bdc9",
   "metadata": {},
   "outputs": [],
   "source": [
    "# Face Detectiom\n",
    "img = cv2.imread('./test/images/friends.jpg')\n",
    "\n",
    "def display(name, image):\n",
    "    cv2.imshow(name, image)\n",
    "    cv2.waitKey(1000)\n",
    "    cv2.destroyAllWindows()\n",
    "    \n",
    "def bakeImage(features, num_detections, circle):\n",
    "    if circle:\n",
    "        for hcx,hcy,hh,hw in features:\n",
    "             center = ((hcx + hcx+hw)//2, (hcy+hh + hcy)//2)\n",
    "             cv2.circle(img, center, hh//2,(255,255,0))       \n",
    "    else:\n",
    "        for hcx,hcy,hh,hw in features:\n",
    "            p1 = (hcx, hcy)\n",
    "            p2 = (hcx+hh, hcy+hw)\n",
    "            cv2.rectangle(img, p1, p2, (255,255,0))\n",
    "            \n",
    "    print(\"DETAILS: prints x and y of head, witdh of face, hieght of face\")\n",
    "    print(features) # prints x and y of head, witdh of face, hieght of face \n",
    "    print(\"DETAILS: prints array length as the number of faces, and the index value is the number of matches\")\n",
    "    print(num_detections) # prints array length as the number of faces, and the index value is the number of matches\n",
    "\n",
    "display('3GrilsImage', img)"
   ]
  },
  {
   "cell_type": "code",
   "execution_count": 4,
   "id": "5876321d",
   "metadata": {},
   "outputs": [],
   "source": [
    "# Load Cascade classifier - frontalface\n",
    "face_cascade = cv2.CascadeClassifier('./models/haarcascade/haarcascade_frontalface_default.xml')\n",
    "eye_cascade = cv2.CascadeClassifier('./models/haarcascade/haarcascade_eye.xml')\n",
    "smile_cascade = cv2.CascadeClassifier('./models/haarcascade/haarcascade_smile.xml')"
   ]
  },
  {
   "cell_type": "code",
   "execution_count": 5,
   "id": "4806bf9d",
   "metadata": {},
   "outputs": [
    {
     "name": "stdout",
     "output_type": "stream",
     "text": [
      "DETAILS: prints x and y of head, witdh of face, hieght of face\n",
      "[[128 107  96  96]\n",
      " [255  90  95  95]\n",
      " [407  92  95  95]]\n",
      "DETAILS: prints array length as the number of faces, and the index value is the number of matches\n",
      "[104  84  71]\n"
     ]
    }
   ],
   "source": [
    "# apply cascade classifire to an image\n",
    "# minNeighbors is a threashhold, if a suspected face has less than 4 \n",
    "# Neighbors then the model is saying there is a low chance of the \n",
    "# suspected face is actually a face.\n",
    "faces, num_dete = face_cascade.detectMultiScale2(img, minNeighbors=8)\n",
    "bakeImage(faces, num_dete, False)"
   ]
  },
  {
   "cell_type": "code",
   "execution_count": 6,
   "id": "7c84f228",
   "metadata": {},
   "outputs": [
    {
     "name": "stdout",
     "output_type": "stream",
     "text": [
      "DETAILS: prints x and y of head, witdh of face, hieght of face\n",
      "[[ 43  95  25  25]\n",
      " [ 39  36  34  34]\n",
      " [423 125  23  23]\n",
      " [270 109  28  28]\n",
      " [182 134  23  23]\n",
      " [144 134  24  24]\n",
      " [310 111  27  27]\n",
      " [451 111  29  29]]\n",
      "DETAILS: prints array length as the number of faces, and the index value is the number of matches\n",
      "[30 35 19 82 19 20 43 21]\n"
     ]
    }
   ],
   "source": [
    "eyes, num_dete = eye_cascade.detectMultiScale2(img, minNeighbors=18)\n",
    "bakeImage(eyes, num_dete, True)"
   ]
  },
  {
   "cell_type": "code",
   "execution_count": 7,
   "id": "a3388a46",
   "metadata": {},
   "outputs": [
    {
     "name": "stdout",
     "output_type": "stream",
     "text": [
      "DETAILS: prints x and y of head, witdh of face, hieght of face\n",
      "[[437 156  47  23]\n",
      " [151 169  51  25]\n",
      " [235 113 133  66]]\n",
      "DETAILS: prints array length as the number of faces, and the index value is the number of matches\n",
      "[101 155 136]\n"
     ]
    }
   ],
   "source": [
    "smiles, num_dete = smile_cascade.detectMultiScale2(img, minNeighbors=100)\n",
    "bakeImage(smiles, num_dete, False)"
   ]
  },
  {
   "cell_type": "code",
   "execution_count": 8,
   "id": "ed04f930",
   "metadata": {},
   "outputs": [],
   "source": [
    "display('3GrilsImage', img)"
   ]
  },
  {
   "cell_type": "code",
   "execution_count": null,
   "id": "61d3d10a",
   "metadata": {},
   "outputs": [],
   "source": []
  },
  {
   "cell_type": "code",
   "execution_count": null,
   "id": "d56df907",
   "metadata": {},
   "outputs": [],
   "source": []
  }
 ],
 "metadata": {
  "kernelspec": {
   "display_name": "Python 3 (ipykernel)",
   "language": "python",
   "name": "python3"
  },
  "language_info": {
   "codemirror_mode": {
    "name": "ipython",
    "version": 3
   },
   "file_extension": ".py",
   "mimetype": "text/x-python",
   "name": "python",
   "nbconvert_exporter": "python",
   "pygments_lexer": "ipython3",
   "version": "3.9.13"
  }
 },
 "nbformat": 4,
 "nbformat_minor": 5
}
