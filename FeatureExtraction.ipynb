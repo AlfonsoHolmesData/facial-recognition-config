{
 "cells": [
  {
   "cell_type": "code",
   "execution_count": 13,
   "id": "6598a0e1",
   "metadata": {},
   "outputs": [],
   "source": [
    "import numpy as np\n",
    "import cv2\n",
    "import dlib\n",
    "from imutils import face_utils"
   ]
  },
  {
   "cell_type": "code",
   "execution_count": 14,
   "id": "77d771bc",
   "metadata": {},
   "outputs": [],
   "source": [
    "img = cv2.imread('./test/images/Test Images/girl.png')\n",
    "\n",
    "def displayImage(name, data):\n",
    "    cv2.imshow(name, data)\n",
    "    cv2.waitKey(500)\n",
    "    cv2.destroyAllWindows()\n",
    "\n",
    "displayImage('girl', img)"
   ]
  },
  {
   "cell_type": "code",
   "execution_count": 15,
   "id": "555623cc",
   "metadata": {},
   "outputs": [],
   "source": [
    "# shape pred\n",
    "shape_predictor = dlib.shape_predictor('./models/dnn/shape_predictor_68_face_landmarks.dat')\n",
    "# face descriptor\n",
    "shape_desdcriptor = dlib.face_recognition_model_v1('./models/dnn/dlib_face_recognition_resnet_model_v1.dat')"
   ]
  },
  {
   "cell_type": "code",
   "execution_count": 28,
   "id": "c4e32344",
   "metadata": {},
   "outputs": [],
   "source": [
    "# Step 1 : face recognition\n",
    "image = img.copy()\n",
    "face_detector = dlib.get_frontal_face_detector()\n",
    "\n",
    "faces= face_detector(image) # outputs xy min and xy maxx\n",
    "for box in faces:\n",
    "    p0 = box.left(), box.top()\n",
    "    p1 = box.right(), box.bottom()\n",
    "    \n",
    "    face_shape = shape_predictor(image, box)\n",
    "    face_shape_array = face_utils.shape_to_np(face_shape)\n",
    "    cv2.rectangle(image, p0, p1, (0,255,0))\n",
    "    for points in face_shape_array:\n",
    "        cv2.circle(image, tuple(points), 3,  (0,255,0))\n",
    "\n",
    "displayImage('girl', image)"
   ]
  },
  {
   "cell_type": "code",
   "execution_count": null,
   "id": "5fd22ec0",
   "metadata": {},
   "outputs": [],
   "source": []
  },
  {
   "cell_type": "code",
   "execution_count": null,
   "id": "db6411f1",
   "metadata": {},
   "outputs": [],
   "source": []
  }
 ],
 "metadata": {
  "kernelspec": {
   "display_name": "Python 3 (ipykernel)",
   "language": "python",
   "name": "python3"
  },
  "language_info": {
   "codemirror_mode": {
    "name": "ipython",
    "version": 3
   },
   "file_extension": ".py",
   "mimetype": "text/x-python",
   "name": "python",
   "nbconvert_exporter": "python",
   "pygments_lexer": "ipython3",
   "version": "3.9.13"
  }
 },
 "nbformat": 4,
 "nbformat_minor": 5
}
